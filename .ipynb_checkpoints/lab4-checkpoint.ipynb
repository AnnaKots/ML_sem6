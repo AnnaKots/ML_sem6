{
 "cells": [
  {
   "cell_type": "code",
   "execution_count": 100,
   "metadata": {},
   "outputs": [],
   "source": [
    "import pandas as pd\n",
    "import numpy as np\n",
    "from sklearn.model_selection import train_test_split, GridSearchCV\n",
    "from sklearn.neighbors import KNeighborsClassifier\n",
    "from sklearn.metrics import accuracy_score, precision_score, recall_score\n",
    "from sklearn.model_selection import learning_curve, validation_curve, StratifiedKFold\n",
    "\n",
    "import seaborn as sns\n",
    "import matplotlib.pyplot as plt\n",
    "%matplotlib inline\n",
    "sns.set(style=\"ticks\")"
   ]
  },
  {
   "cell_type": "code",
   "execution_count": 101,
   "metadata": {},
   "outputs": [],
   "source": [
    "X = pd.read_csv('C:/Users/kotsi/Desktop/x_train.csv',delimiter=';')\n",
    "Y = pd.read_csv('C:/Users/kotsi/Desktop/y_train.csv',delimiter=';',header=None)\n",
    "Y.columns=['Exit']\n",
    "X=X.drop(['numberOfAttemptedLevels','totalBonusScore','totalStarsCount'], axis='columns')"
   ]
  },
  {
   "cell_type": "markdown",
   "metadata": {},
   "source": [
    "### Характеристики датасета"
   ]
  },
  {
   "cell_type": "markdown",
   "metadata": {},
   "source": [
    "__maxPlayerLevel__ - максимальный уровень игры, который прошел игрок\n",
    "<br>__numberOfAttemptedLevels__ - количество уровней, которые попытался пройти игрок\n",
    "<br>__attemptsOnTheHighestLevel__ - число попыток, сделанных на самом высоком уровне\n",
    "<br>__totalNumOfAttempts__ - общее число попыток\n",
    "<br>__averageNumOfTurnsPerCompletedLevel__ - среднее количество ходов, выполненных на успешно пройденных уровнях\n",
    "<br>__doReturnOnLowerLevels__ - делал ли игрок возвраты к игре на уже пройденных уровнях\n",
    "<br>__numberOfBoostersUsed__ - количество использованных бустеров\n",
    "<br>__fractionOfUsefullBoosters__ - количество бустеров, использованных во время успешных попыток (игрок прошел уровнь)\n",
    "<br>__totalScore__ - общее количество набранных очков\n",
    "<br>__totalBonusScore__ - общее количество набранных бонусных очков\n",
    "<br>__totalStarsCount__ - общее количество набранных звезд\n",
    "<br>__numberOfDaysActuallyPlayed__ - количество дней, когда пользователь играл в игру"
   ]
  },
  {
   "cell_type": "code",
   "execution_count": 71,
   "metadata": {},
   "outputs": [
    {
     "data": {
      "text/html": [
       "<div>\n",
       "<style scoped>\n",
       "    .dataframe tbody tr th:only-of-type {\n",
       "        vertical-align: middle;\n",
       "    }\n",
       "\n",
       "    .dataframe tbody tr th {\n",
       "        vertical-align: top;\n",
       "    }\n",
       "\n",
       "    .dataframe thead th {\n",
       "        text-align: right;\n",
       "    }\n",
       "</style>\n",
       "<table border=\"1\" class=\"dataframe\">\n",
       "  <thead>\n",
       "    <tr style=\"text-align: right;\">\n",
       "      <th></th>\n",
       "      <th>maxPlayerLevel</th>\n",
       "      <th>attemptsOnTheHighestLevel</th>\n",
       "      <th>totalNumOfAttempts</th>\n",
       "      <th>averageNumOfTurnsPerCompletedLevel</th>\n",
       "      <th>doReturnOnLowerLevels</th>\n",
       "      <th>numberOfBoostersUsed</th>\n",
       "      <th>fractionOfUsefullBoosters</th>\n",
       "      <th>totalScore</th>\n",
       "      <th>numberOfDaysActuallyPlayed</th>\n",
       "    </tr>\n",
       "  </thead>\n",
       "  <tbody>\n",
       "    <tr>\n",
       "      <th>0</th>\n",
       "      <td>39</td>\n",
       "      <td>3</td>\n",
       "      <td>17</td>\n",
       "      <td>24.444444</td>\n",
       "      <td>1</td>\n",
       "      <td>5</td>\n",
       "      <td>0.400000</td>\n",
       "      <td>2650000</td>\n",
       "      <td>2</td>\n",
       "    </tr>\n",
       "    <tr>\n",
       "      <th>1</th>\n",
       "      <td>21</td>\n",
       "      <td>19</td>\n",
       "      <td>55</td>\n",
       "      <td>17.045455</td>\n",
       "      <td>1</td>\n",
       "      <td>6</td>\n",
       "      <td>0.333333</td>\n",
       "      <td>5614000</td>\n",
       "      <td>4</td>\n",
       "    </tr>\n",
       "    <tr>\n",
       "      <th>2</th>\n",
       "      <td>5</td>\n",
       "      <td>1</td>\n",
       "      <td>6</td>\n",
       "      <td>8.400000</td>\n",
       "      <td>0</td>\n",
       "      <td>1</td>\n",
       "      <td>1.000000</td>\n",
       "      <td>857000</td>\n",
       "      <td>1</td>\n",
       "    </tr>\n",
       "    <tr>\n",
       "      <th>3</th>\n",
       "      <td>21</td>\n",
       "      <td>5</td>\n",
       "      <td>6</td>\n",
       "      <td>19.000000</td>\n",
       "      <td>0</td>\n",
       "      <td>1</td>\n",
       "      <td>0.000000</td>\n",
       "      <td>120000</td>\n",
       "      <td>1</td>\n",
       "    </tr>\n",
       "    <tr>\n",
       "      <th>4</th>\n",
       "      <td>4</td>\n",
       "      <td>1</td>\n",
       "      <td>5</td>\n",
       "      <td>9.600000</td>\n",
       "      <td>0</td>\n",
       "      <td>1</td>\n",
       "      <td>1.000000</td>\n",
       "      <td>857000</td>\n",
       "      <td>1</td>\n",
       "    </tr>\n",
       "  </tbody>\n",
       "</table>\n",
       "</div>"
      ],
      "text/plain": [
       "   maxPlayerLevel  attemptsOnTheHighestLevel  totalNumOfAttempts  \\\n",
       "0              39                          3                  17   \n",
       "1              21                         19                  55   \n",
       "2               5                          1                   6   \n",
       "3              21                          5                   6   \n",
       "4               4                          1                   5   \n",
       "\n",
       "   averageNumOfTurnsPerCompletedLevel  doReturnOnLowerLevels  \\\n",
       "0                           24.444444                      1   \n",
       "1                           17.045455                      1   \n",
       "2                            8.400000                      0   \n",
       "3                           19.000000                      0   \n",
       "4                            9.600000                      0   \n",
       "\n",
       "   numberOfBoostersUsed  fractionOfUsefullBoosters  totalScore  \\\n",
       "0                     5                   0.400000     2650000   \n",
       "1                     6                   0.333333     5614000   \n",
       "2                     1                   1.000000      857000   \n",
       "3                     1                   0.000000      120000   \n",
       "4                     1                   1.000000      857000   \n",
       "\n",
       "   numberOfDaysActuallyPlayed  \n",
       "0                           2  \n",
       "1                           4  \n",
       "2                           1  \n",
       "3                           1  \n",
       "4                           1  "
      ]
     },
     "execution_count": 71,
     "metadata": {},
     "output_type": "execute_result"
    }
   ],
   "source": [
    "X.head()"
   ]
  },
  {
   "cell_type": "code",
   "execution_count": 72,
   "metadata": {},
   "outputs": [
    {
     "name": "stdout",
     "output_type": "stream",
     "text": [
      "<class 'pandas.core.frame.DataFrame'>\n",
      "RangeIndex: 25289 entries, 0 to 25288\n",
      "Data columns (total 9 columns):\n",
      "maxPlayerLevel                        25289 non-null int64\n",
      "attemptsOnTheHighestLevel             25289 non-null int64\n",
      "totalNumOfAttempts                    25289 non-null int64\n",
      "averageNumOfTurnsPerCompletedLevel    25289 non-null float64\n",
      "doReturnOnLowerLevels                 25289 non-null int64\n",
      "numberOfBoostersUsed                  25289 non-null int64\n",
      "fractionOfUsefullBoosters             25289 non-null float64\n",
      "totalScore                            25289 non-null int64\n",
      "numberOfDaysActuallyPlayed            25289 non-null int64\n",
      "dtypes: float64(2), int64(7)\n",
      "memory usage: 1.7 MB\n"
     ]
    }
   ],
   "source": [
    "X.info()"
   ]
  },
  {
   "cell_type": "markdown",
   "metadata": {},
   "source": [
    "__Все параметры числовые, пустых значений нет__"
   ]
  },
  {
   "cell_type": "code",
   "execution_count": 25,
   "metadata": {},
   "outputs": [
    {
     "data": {
      "text/plain": [
       "<matplotlib.axes._subplots.AxesSubplot at 0x1f0cde69390>"
      ]
     },
     "execution_count": 25,
     "metadata": {},
     "output_type": "execute_result"
    },
    {
     "data": {
      "image/png": "[encoded data removed]",
      "text/plain": [
       "<Figure size 432x288 with 2 Axes>"
      ]
     },
     "metadata": {
      "needs_background": "light"
     },
     "output_type": "display_data"
    }
   ],
   "source": [
    "sns.heatmap(X.corr())"
   ]
  },
  {
   "cell_type": "code",
   "execution_count": 26,
   "metadata": {},
   "outputs": [
    {
     "data": {
      "text/html": [
       "<div>\n",
       "<style scoped>\n",
       "    .dataframe tbody tr th:only-of-type {\n",
       "        vertical-align: middle;\n",
       "    }\n",
       "\n",
       "    .dataframe tbody tr th {\n",
       "        vertical-align: top;\n",
       "    }\n",
       "\n",
       "    .dataframe thead th {\n",
       "        text-align: right;\n",
       "    }\n",
       "</style>\n",
       "<table border=\"1\" class=\"dataframe\">\n",
       "  <thead>\n",
       "    <tr style=\"text-align: right;\">\n",
       "      <th></th>\n",
       "      <th>maxPlayerLevel</th>\n",
       "      <th>attemptsOnTheHighestLevel</th>\n",
       "      <th>totalNumOfAttempts</th>\n",
       "      <th>averageNumOfTurnsPerCompletedLevel</th>\n",
       "      <th>doReturnOnLowerLevels</th>\n",
       "      <th>numberOfBoostersUsed</th>\n",
       "      <th>fractionOfUsefullBoosters</th>\n",
       "      <th>totalScore</th>\n",
       "      <th>numberOfDaysActuallyPlayed</th>\n",
       "    </tr>\n",
       "  </thead>\n",
       "  <tbody>\n",
       "    <tr>\n",
       "      <th>maxPlayerLevel</th>\n",
       "      <td>1.000000</td>\n",
       "      <td>0.472142</td>\n",
       "      <td>0.757854</td>\n",
       "      <td>0.683706</td>\n",
       "      <td>0.368297</td>\n",
       "      <td>0.675955</td>\n",
       "      <td>0.126235</td>\n",
       "      <td>0.570234</td>\n",
       "      <td>0.793385</td>\n",
       "    </tr>\n",
       "    <tr>\n",
       "      <th>attemptsOnTheHighestLevel</th>\n",
       "      <td>0.472142</td>\n",
       "      <td>1.000000</td>\n",
       "      <td>0.532032</td>\n",
       "      <td>0.277072</td>\n",
       "      <td>0.197035</td>\n",
       "      <td>0.389465</td>\n",
       "      <td>-0.041700</td>\n",
       "      <td>0.277326</td>\n",
       "      <td>0.524109</td>\n",
       "    </tr>\n",
       "    <tr>\n",
       "      <th>totalNumOfAttempts</th>\n",
       "      <td>0.757854</td>\n",
       "      <td>0.532032</td>\n",
       "      <td>1.000000</td>\n",
       "      <td>0.509510</td>\n",
       "      <td>0.391969</td>\n",
       "      <td>0.836706</td>\n",
       "      <td>0.128843</td>\n",
       "      <td>0.798051</td>\n",
       "      <td>0.846448</td>\n",
       "    </tr>\n",
       "    <tr>\n",
       "      <th>averageNumOfTurnsPerCompletedLevel</th>\n",
       "      <td>0.683706</td>\n",
       "      <td>0.277072</td>\n",
       "      <td>0.509510</td>\n",
       "      <td>1.000000</td>\n",
       "      <td>0.250261</td>\n",
       "      <td>0.543847</td>\n",
       "      <td>0.457168</td>\n",
       "      <td>0.499681</td>\n",
       "      <td>0.555594</td>\n",
       "    </tr>\n",
       "    <tr>\n",
       "      <th>doReturnOnLowerLevels</th>\n",
       "      <td>0.368297</td>\n",
       "      <td>0.197035</td>\n",
       "      <td>0.391969</td>\n",
       "      <td>0.250261</td>\n",
       "      <td>1.000000</td>\n",
       "      <td>0.320439</td>\n",
       "      <td>0.071646</td>\n",
       "      <td>0.310218</td>\n",
       "      <td>0.383024</td>\n",
       "    </tr>\n",
       "    <tr>\n",
       "      <th>numberOfBoostersUsed</th>\n",
       "      <td>0.675955</td>\n",
       "      <td>0.389465</td>\n",
       "      <td>0.836706</td>\n",
       "      <td>0.543847</td>\n",
       "      <td>0.320439</td>\n",
       "      <td>1.000000</td>\n",
       "      <td>0.203519</td>\n",
       "      <td>0.854263</td>\n",
       "      <td>0.751712</td>\n",
       "    </tr>\n",
       "    <tr>\n",
       "      <th>fractionOfUsefullBoosters</th>\n",
       "      <td>0.126235</td>\n",
       "      <td>-0.041700</td>\n",
       "      <td>0.128843</td>\n",
       "      <td>0.457168</td>\n",
       "      <td>0.071646</td>\n",
       "      <td>0.203519</td>\n",
       "      <td>1.000000</td>\n",
       "      <td>0.328287</td>\n",
       "      <td>0.058929</td>\n",
       "    </tr>\n",
       "    <tr>\n",
       "      <th>totalScore</th>\n",
       "      <td>0.570234</td>\n",
       "      <td>0.277326</td>\n",
       "      <td>0.798051</td>\n",
       "      <td>0.499681</td>\n",
       "      <td>0.310218</td>\n",
       "      <td>0.854263</td>\n",
       "      <td>0.328287</td>\n",
       "      <td>1.000000</td>\n",
       "      <td>0.617847</td>\n",
       "    </tr>\n",
       "    <tr>\n",
       "      <th>numberOfDaysActuallyPlayed</th>\n",
       "      <td>0.793385</td>\n",
       "      <td>0.524109</td>\n",
       "      <td>0.846448</td>\n",
       "      <td>0.555594</td>\n",
       "      <td>0.383024</td>\n",
       "      <td>0.751712</td>\n",
       "      <td>0.058929</td>\n",
       "      <td>0.617847</td>\n",
       "      <td>1.000000</td>\n",
       "    </tr>\n",
       "  </tbody>\n",
       "</table>\n",
       "</div>"
      ],
      "text/plain": [
       "                                    maxPlayerLevel  attemptsOnTheHighestLevel  \\\n",
       "maxPlayerLevel                            1.000000                   0.472142   \n",
       "attemptsOnTheHighestLevel                 0.472142                   1.000000   \n",
       "totalNumOfAttempts                        0.757854                   0.532032   \n",
       "averageNumOfTurnsPerCompletedLevel        0.683706                   0.277072   \n",
       "doReturnOnLowerLevels                     0.368297                   0.197035   \n",
       "numberOfBoostersUsed                      0.675955                   0.389465   \n",
       "fractionOfUsefullBoosters                 0.126235                  -0.041700   \n",
       "totalScore                                0.570234                   0.277326   \n",
       "numberOfDaysActuallyPlayed                0.793385                   0.524109   \n",
       "\n",
       "                                    totalNumOfAttempts  \\\n",
       "maxPlayerLevel                                0.757854   \n",
       "attemptsOnTheHighestLevel                     0.532032   \n",
       "totalNumOfAttempts                            1.000000   \n",
       "averageNumOfTurnsPerCompletedLevel            0.509510   \n",
       "doReturnOnLowerLevels                         0.391969   \n",
       "numberOfBoostersUsed                          0.836706   \n",
       "fractionOfUsefullBoosters                     0.128843   \n",
       "totalScore                                    0.798051   \n",
       "numberOfDaysActuallyPlayed                    0.846448   \n",
       "\n",
       "                                    averageNumOfTurnsPerCompletedLevel  \\\n",
       "maxPlayerLevel                                                0.683706   \n",
       "attemptsOnTheHighestLevel                                     0.277072   \n",
       "totalNumOfAttempts                                            0.509510   \n",
       "averageNumOfTurnsPerCompletedLevel                            1.000000   \n",
       "doReturnOnLowerLevels                                         0.250261   \n",
       "numberOfBoostersUsed                                          0.543847   \n",
       "fractionOfUsefullBoosters                                     0.457168   \n",
       "totalScore                                                    0.499681   \n",
       "numberOfDaysActuallyPlayed                                    0.555594   \n",
       "\n",
       "                                    doReturnOnLowerLevels  \\\n",
       "maxPlayerLevel                                   0.368297   \n",
       "attemptsOnTheHighestLevel                        0.197035   \n",
       "totalNumOfAttempts                               0.391969   \n",
       "averageNumOfTurnsPerCompletedLevel               0.250261   \n",
       "doReturnOnLowerLevels                            1.000000   \n",
       "numberOfBoostersUsed                             0.320439   \n",
       "fractionOfUsefullBoosters                        0.071646   \n",
       "totalScore                                       0.310218   \n",
       "numberOfDaysActuallyPlayed                       0.383024   \n",
       "\n",
       "                                    numberOfBoostersUsed  \\\n",
       "maxPlayerLevel                                  0.675955   \n",
       "attemptsOnTheHighestLevel                       0.389465   \n",
       "totalNumOfAttempts                              0.836706   \n",
       "averageNumOfTurnsPerCompletedLevel              0.543847   \n",
       "doReturnOnLowerLevels                           0.320439   \n",
       "numberOfBoostersUsed                            1.000000   \n",
       "fractionOfUsefullBoosters                       0.203519   \n",
       "totalScore                                      0.854263   \n",
       "numberOfDaysActuallyPlayed                      0.751712   \n",
       "\n",
       "                                    fractionOfUsefullBoosters  totalScore  \\\n",
       "maxPlayerLevel                                       0.126235    0.570234   \n",
       "attemptsOnTheHighestLevel                           -0.041700    0.277326   \n",
       "totalNumOfAttempts                                   0.128843    0.798051   \n",
       "averageNumOfTurnsPerCompletedLevel                   0.457168    0.499681   \n",
       "doReturnOnLowerLevels                                0.071646    0.310218   \n",
       "numberOfBoostersUsed                                 0.203519    0.854263   \n",
       "fractionOfUsefullBoosters                            1.000000    0.328287   \n",
       "totalScore                                           0.328287    1.000000   \n",
       "numberOfDaysActuallyPlayed                           0.058929    0.617847   \n",
       "\n",
       "                                    numberOfDaysActuallyPlayed  \n",
       "maxPlayerLevel                                        0.793385  \n",
       "attemptsOnTheHighestLevel                             0.524109  \n",
       "totalNumOfAttempts                                    0.846448  \n",
       "averageNumOfTurnsPerCompletedLevel                    0.555594  \n",
       "doReturnOnLowerLevels                                 0.383024  \n",
       "numberOfBoostersUsed                                  0.751712  \n",
       "fractionOfUsefullBoosters                             0.058929  \n",
       "totalScore                                            0.617847  \n",
       "numberOfDaysActuallyPlayed                            1.000000  "
      ]
     },
     "execution_count": 26,
     "metadata": {},
     "output_type": "execute_result"
    }
   ],
   "source": [
    "X.corr()"
   ]
  },
  {
   "cell_type": "markdown",
   "metadata": {},
   "source": [
    "__Нормализуем__"
   ]
  },
  {
   "cell_type": "code",
   "execution_count": 102,
   "metadata": {},
   "outputs": [
    {
     "data": {
      "text/html": [
       "<div>\n",
       "<style scoped>\n",
       "    .dataframe tbody tr th:only-of-type {\n",
       "        vertical-align: middle;\n",
       "    }\n",
       "\n",
       "    .dataframe tbody tr th {\n",
       "        vertical-align: top;\n",
       "    }\n",
       "\n",
       "    .dataframe thead th {\n",
       "        text-align: right;\n",
       "    }\n",
       "</style>\n",
       "<table border=\"1\" class=\"dataframe\">\n",
       "  <thead>\n",
       "    <tr style=\"text-align: right;\">\n",
       "      <th></th>\n",
       "      <th>maxPlayerLevel</th>\n",
       "      <th>attemptsOnTheHighestLevel</th>\n",
       "      <th>totalNumOfAttempts</th>\n",
       "      <th>averageNumOfTurnsPerCompletedLevel</th>\n",
       "      <th>doReturnOnLowerLevels</th>\n",
       "      <th>numberOfBoostersUsed</th>\n",
       "      <th>fractionOfUsefullBoosters</th>\n",
       "      <th>totalScore</th>\n",
       "      <th>numberOfDaysActuallyPlayed</th>\n",
       "    </tr>\n",
       "  </thead>\n",
       "  <tbody>\n",
       "    <tr>\n",
       "      <th>maxPlayerLevel</th>\n",
       "      <td>1.000000</td>\n",
       "      <td>0.472142</td>\n",
       "      <td>0.757854</td>\n",
       "      <td>0.683706</td>\n",
       "      <td>0.368297</td>\n",
       "      <td>0.675955</td>\n",
       "      <td>0.126235</td>\n",
       "      <td>0.570234</td>\n",
       "      <td>0.793385</td>\n",
       "    </tr>\n",
       "    <tr>\n",
       "      <th>attemptsOnTheHighestLevel</th>\n",
       "      <td>0.472142</td>\n",
       "      <td>1.000000</td>\n",
       "      <td>0.532032</td>\n",
       "      <td>0.277072</td>\n",
       "      <td>0.197035</td>\n",
       "      <td>0.389465</td>\n",
       "      <td>-0.041700</td>\n",
       "      <td>0.277326</td>\n",
       "      <td>0.524109</td>\n",
       "    </tr>\n",
       "    <tr>\n",
       "      <th>totalNumOfAttempts</th>\n",
       "      <td>0.757854</td>\n",
       "      <td>0.532032</td>\n",
       "      <td>1.000000</td>\n",
       "      <td>0.509510</td>\n",
       "      <td>0.391969</td>\n",
       "      <td>0.836706</td>\n",
       "      <td>0.128843</td>\n",
       "      <td>0.798051</td>\n",
       "      <td>0.846448</td>\n",
       "    </tr>\n",
       "    <tr>\n",
       "      <th>averageNumOfTurnsPerCompletedLevel</th>\n",
       "      <td>0.683706</td>\n",
       "      <td>0.277072</td>\n",
       "      <td>0.509510</td>\n",
       "      <td>1.000000</td>\n",
       "      <td>0.250261</td>\n",
       "      <td>0.543847</td>\n",
       "      <td>0.457168</td>\n",
       "      <td>0.499681</td>\n",
       "      <td>0.555594</td>\n",
       "    </tr>\n",
       "    <tr>\n",
       "      <th>doReturnOnLowerLevels</th>\n",
       "      <td>0.368297</td>\n",
       "      <td>0.197035</td>\n",
       "      <td>0.391969</td>\n",
       "      <td>0.250261</td>\n",
       "      <td>1.000000</td>\n",
       "      <td>0.320439</td>\n",
       "      <td>0.071646</td>\n",
       "      <td>0.310218</td>\n",
       "      <td>0.383024</td>\n",
       "    </tr>\n",
       "    <tr>\n",
       "      <th>numberOfBoostersUsed</th>\n",
       "      <td>0.675955</td>\n",
       "      <td>0.389465</td>\n",
       "      <td>0.836706</td>\n",
       "      <td>0.543847</td>\n",
       "      <td>0.320439</td>\n",
       "      <td>1.000000</td>\n",
       "      <td>0.203519</td>\n",
       "      <td>0.854263</td>\n",
       "      <td>0.751712</td>\n",
       "    </tr>\n",
       "    <tr>\n",
       "      <th>fractionOfUsefullBoosters</th>\n",
       "      <td>0.126235</td>\n",
       "      <td>-0.041700</td>\n",
       "      <td>0.128843</td>\n",
       "      <td>0.457168</td>\n",
       "      <td>0.071646</td>\n",
       "      <td>0.203519</td>\n",
       "      <td>1.000000</td>\n",
       "      <td>0.328287</td>\n",
       "      <td>0.058929</td>\n",
       "    </tr>\n",
       "    <tr>\n",
       "      <th>totalScore</th>\n",
       "      <td>0.570234</td>\n",
       "      <td>0.277326</td>\n",
       "      <td>0.798051</td>\n",
       "      <td>0.499681</td>\n",
       "      <td>0.310218</td>\n",
       "      <td>0.854263</td>\n",
       "      <td>0.328287</td>\n",
       "      <td>1.000000</td>\n",
       "      <td>0.617847</td>\n",
       "    </tr>\n",
       "    <tr>\n",
       "      <th>numberOfDaysActuallyPlayed</th>\n",
       "      <td>0.793385</td>\n",
       "      <td>0.524109</td>\n",
       "      <td>0.846448</td>\n",
       "      <td>0.555594</td>\n",
       "      <td>0.383024</td>\n",
       "      <td>0.751712</td>\n",
       "      <td>0.058929</td>\n",
       "      <td>0.617847</td>\n",
       "      <td>1.000000</td>\n",
       "    </tr>\n",
       "  </tbody>\n",
       "</table>\n",
       "</div>"
      ],
      "text/plain": [
       "                                    maxPlayerLevel  attemptsOnTheHighestLevel  \\\n",
       "maxPlayerLevel                            1.000000                   0.472142   \n",
       "attemptsOnTheHighestLevel                 0.472142                   1.000000   \n",
       "totalNumOfAttempts                        0.757854                   0.532032   \n",
       "averageNumOfTurnsPerCompletedLevel        0.683706                   0.277072   \n",
       "doReturnOnLowerLevels                     0.368297                   0.197035   \n",
       "numberOfBoostersUsed                      0.675955                   0.389465   \n",
       "fractionOfUsefullBoosters                 0.126235                  -0.041700   \n",
       "totalScore                                0.570234                   0.277326   \n",
       "numberOfDaysActuallyPlayed                0.793385                   0.524109   \n",
       "\n",
       "                                    totalNumOfAttempts  \\\n",
       "maxPlayerLevel                                0.757854   \n",
       "attemptsOnTheHighestLevel                     0.532032   \n",
       "totalNumOfAttempts                            1.000000   \n",
       "averageNumOfTurnsPerCompletedLevel            0.509510   \n",
       "doReturnOnLowerLevels                         0.391969   \n",
       "numberOfBoostersUsed                          0.836706   \n",
       "fractionOfUsefullBoosters                     0.128843   \n",
       "totalScore                                    0.798051   \n",
       "numberOfDaysActuallyPlayed                    0.846448   \n",
       "\n",
       "                                    averageNumOfTurnsPerCompletedLevel  \\\n",
       "maxPlayerLevel                                                0.683706   \n",
       "attemptsOnTheHighestLevel                                     0.277072   \n",
       "totalNumOfAttempts                                            0.509510   \n",
       "averageNumOfTurnsPerCompletedLevel                            1.000000   \n",
       "doReturnOnLowerLevels                                         0.250261   \n",
       "numberOfBoostersUsed                                          0.543847   \n",
       "fractionOfUsefullBoosters                                     0.457168   \n",
       "totalScore                                                    0.499681   \n",
       "numberOfDaysActuallyPlayed                                    0.555594   \n",
       "\n",
       "                                    doReturnOnLowerLevels  \\\n",
       "maxPlayerLevel                                   0.368297   \n",
       "attemptsOnTheHighestLevel                        0.197035   \n",
       "totalNumOfAttempts                               0.391969   \n",
       "averageNumOfTurnsPerCompletedLevel               0.250261   \n",
       "doReturnOnLowerLevels                            1.000000   \n",
       "numberOfBoostersUsed                             0.320439   \n",
       "fractionOfUsefullBoosters                        0.071646   \n",
       "totalScore                                       0.310218   \n",
       "numberOfDaysActuallyPlayed                       0.383024   \n",
       "\n",
       "                                    numberOfBoostersUsed  \\\n",
       "maxPlayerLevel                                  0.675955   \n",
       "attemptsOnTheHighestLevel                       0.389465   \n",
       "totalNumOfAttempts                              0.836706   \n",
       "averageNumOfTurnsPerCompletedLevel              0.543847   \n",
       "doReturnOnLowerLevels                           0.320439   \n",
       "numberOfBoostersUsed                            1.000000   \n",
       "fractionOfUsefullBoosters                       0.203519   \n",
       "totalScore                                      0.854263   \n",
       "numberOfDaysActuallyPlayed                      0.751712   \n",
       "\n",
       "                                    fractionOfUsefullBoosters  totalScore  \\\n",
       "maxPlayerLevel                                       0.126235    0.570234   \n",
       "attemptsOnTheHighestLevel                           -0.041700    0.277326   \n",
       "totalNumOfAttempts                                   0.128843    0.798051   \n",
       "averageNumOfTurnsPerCompletedLevel                   0.457168    0.499681   \n",
       "doReturnOnLowerLevels                                0.071646    0.310218   \n",
       "numberOfBoostersUsed                                 0.203519    0.854263   \n",
       "fractionOfUsefullBoosters                            1.000000    0.328287   \n",
       "totalScore                                           0.328287    1.000000   \n",
       "numberOfDaysActuallyPlayed                           0.058929    0.617847   \n",
       "\n",
       "                                    numberOfDaysActuallyPlayed  \n",
       "maxPlayerLevel                                        0.793385  \n",
       "attemptsOnTheHighestLevel                             0.524109  \n",
       "totalNumOfAttempts                                    0.846448  \n",
       "averageNumOfTurnsPerCompletedLevel                    0.555594  \n",
       "doReturnOnLowerLevels                                 0.383024  \n",
       "numberOfBoostersUsed                                  0.751712  \n",
       "fractionOfUsefullBoosters                             0.058929  \n",
       "totalScore                                            0.617847  \n",
       "numberOfDaysActuallyPlayed                            1.000000  "
      ]
     },
     "execution_count": 102,
     "metadata": {},
     "output_type": "execute_result"
    }
   ],
   "source": [
    "X = (X - X.mean()) / X.std()\n",
    "X.corr()"
   ]
  },
  {
   "cell_type": "code",
   "execution_count": 103,
   "metadata": {},
   "outputs": [],
   "source": [
    "Y=Y['Exit']"
   ]
  },
  {
   "cell_type": "code",
   "execution_count": 104,
   "metadata": {},
   "outputs": [
    {
     "data": {
      "text/plain": [
       "(25289,)"
      ]
     },
     "execution_count": 104,
     "metadata": {},
     "output_type": "execute_result"
    }
   ],
   "source": [
    "Y.shape"
   ]
  },
  {
   "cell_type": "code",
   "execution_count": 105,
   "metadata": {},
   "outputs": [],
   "source": [
    "X_train, X_test, y_train, y_test = train_test_split(X, Y, test_size = 0.2, random_state = 11)"
   ]
  },
  {
   "cell_type": "code",
   "execution_count": 106,
   "metadata": {},
   "outputs": [
    {
     "data": {
      "text/plain": [
       "(20231,)"
      ]
     },
     "execution_count": 106,
     "metadata": {},
     "output_type": "execute_result"
    }
   ],
   "source": [
    "y_train.shape"
   ]
  },
  {
   "cell_type": "code",
   "execution_count": 107,
   "metadata": {},
   "outputs": [
    {
     "data": {
      "text/plain": [
       "KNeighborsClassifier(algorithm='auto', leaf_size=30, metric='minkowski',\n",
       "           metric_params=None, n_jobs=None, n_neighbors=5, p=2,\n",
       "           weights='uniform')"
      ]
     },
     "execution_count": 107,
     "metadata": {},
     "output_type": "execute_result"
    }
   ],
   "source": [
    "knn = KNeighborsClassifier()\n",
    "knn.fit(X_train, y_train)"
   ]
  },
  {
   "cell_type": "code",
   "execution_count": 108,
   "metadata": {},
   "outputs": [],
   "source": [
    "y_train_predict = knn.predict(X_train)\n",
    "y_test_predict = knn.predict(X_test)"
   ]
  },
  {
   "cell_type": "code",
   "execution_count": 109,
   "metadata": {},
   "outputs": [
    {
     "name": "stdout",
     "output_type": "stream",
     "text": [
      "0.8011071569790431 0.6604057099924868 0.6133984647592463\n"
     ]
    }
   ],
   "source": [
    "print(accuracy_score(y_test, y_test_predict), precision_score(y_test, y_test_predict), recall_score(y_test, y_test_predict))"
   ]
  },
  {
   "cell_type": "code",
   "execution_count": 110,
   "metadata": {},
   "outputs": [
    {
     "data": {
      "text/plain": [
       "\"n_neighbors_array = [150,200,250]\\nknn = KNeighborsClassifier()\\ngrid = GridSearchCV(estimator=knn, param_grid={'n_neighbors': n_neighbors_array},cv=3)\\ngrid.fit(X_train, y_train)\\n\\nbest_cv_err = 1 - grid.best_score_\\nbest_n_neighbors = grid.best_estimator_.n_neighbors\\n\\nprint(best_cv_err, best_n_neighbors)\""
      ]
     },
     "execution_count": 110,
     "metadata": {},
     "output_type": "execute_result"
    }
   ],
   "source": [
    "'''n_neighbors_array = [150,200,250]\n",
    "knn = KNeighborsClassifier()\n",
    "grid = GridSearchCV(estimator=knn, param_grid={'n_neighbors': n_neighbors_array},cv=3)\n",
    "grid.fit(X_train, y_train)\n",
    "\n",
    "best_cv_err = 1 - grid.best_score_\n",
    "best_n_neighbors = grid.best_estimator_.n_neighbors\n",
    "\n",
    "print(best_cv_err, best_n_neighbors)'''"
   ]
  },
  {
   "cell_type": "code",
   "execution_count": 111,
   "metadata": {},
   "outputs": [],
   "source": [
    "knn = KNeighborsClassifier(n_neighbors=200)\n",
    "knn.fit(X_train, y_train)\n",
    "\n",
    "y_train_predict = knn.predict(X_train)\n",
    "y_test_predict = knn.predict(X_test)"
   ]
  },
  {
   "cell_type": "code",
   "execution_count": 112,
   "metadata": {},
   "outputs": [
    {
     "name": "stdout",
     "output_type": "stream",
     "text": [
      "0.8238434163701067 0.7185483870967742 0.6217725052337753\n"
     ]
    }
   ],
   "source": [
    "print(accuracy_score(y_test, y_test_predict), precision_score(y_test, y_test_predict), recall_score(y_test, y_test_predict))"
   ]
  },
  {
   "cell_type": "code",
   "execution_count": 113,
   "metadata": {},
   "outputs": [],
   "source": [
    "## "
   ]
  },
  {
   "cell_type": "code",
   "execution_count": 114,
   "metadata": {},
   "outputs": [],
   "source": [
    "def plot_learning_curve(estimator, title, X, y, ylim=None, cv=None,\n",
    "                        n_jobs=None, train_sizes=np.linspace(.1, 1.0, 5)):\n",
    "    plt.figure()\n",
    "    plt.title(\"Кривая обучения\")\n",
    "    plt.xlabel(\"Training examples\")\n",
    "    plt.ylabel(\"Score\")\n",
    "    train_sizes, train_scores, test_scores = learning_curve(\n",
    "            estimator, X, y, cv=cv, n_jobs=n_jobs, train_sizes=train_sizes)\n",
    "    train_scores_mean = np.mean(train_scores, axis=1)\n",
    "    train_scores_std = np.std(train_scores, axis=1)\n",
    "    test_scores_mean = np.mean(test_scores, axis=1)\n",
    "    test_scores_std = np.std(test_scores, axis=1)\n",
    "    plt.grid()\n",
    "\n",
    "    plt.fill_between(train_sizes, train_scores_mean - train_scores_std,\n",
    "                         train_scores_mean + train_scores_std, alpha=0.1,\n",
    "                         color=\"r\")\n",
    "    plt.fill_between(train_sizes, test_scores_mean - test_scores_std,\n",
    "                         test_scores_mean + test_scores_std, alpha=0.1, color=\"g\")\n",
    "    plt.plot(train_sizes, train_scores_mean, 'o-', color=\"r\",\n",
    "                 label=\"Training score\")\n",
    "    plt.plot(train_sizes, test_scores_mean, 'o-', color=\"g\",\n",
    "                 label=\"Cross-validation score\")\n",
    "\n",
    "    plt.legend(loc=\"best\")\n",
    "    return plt"
   ]
  },
  {
   "cell_type": "code",
   "execution_count": 115,
   "metadata": {},
   "outputs": [
    {
     "data": {
      "text/plain": [
       "<module 'matplotlib.pyplot' from 'C:\\\\Users\\\\kotsi\\\\Anaconda37\\\\lib\\\\site-packages\\\\matplotlib\\\\pyplot.py'>"
      ]
     },
     "execution_count": 115,
     "metadata": {},
     "output_type": "execute_result"
    },
    {
     "data": {
      "image/png": "[encoded data removed]",
      "text/plain": [
       "<Figure size 432x288 with 1 Axes>"
      ]
     },
     "metadata": {},
     "output_type": "display_data"
    }
   ],
   "source": [
    "plot_learning_curve(KNeighborsClassifier(n_neighbors=200), 'n_neighbors=200', \n",
    "                    X_train, y_train,\n",
    "                    cv=StratifiedKFold(n_splits=5))"
   ]
  },
  {
   "cell_type": "code",
   "execution_count": 116,
   "metadata": {},
   "outputs": [],
   "source": [
    "def plot_validation_curve(estimator, title, X, y, \n",
    "                          param_name, param_range, cv, \n",
    "                          scoring=\"accuracy\"):\n",
    "                                                   \n",
    "    train_scores, test_scores = validation_curve(\n",
    "        estimator, X, y, param_name=param_name, param_range=param_range,\n",
    "        cv=cv, scoring=scoring, n_jobs=1)\n",
    "    train_scores_mean = np.mean(train_scores, axis=1)\n",
    "    train_scores_std = np.std(train_scores, axis=1)\n",
    "    test_scores_mean = np.mean(test_scores, axis=1)\n",
    "    test_scores_std = np.std(test_scores, axis=1)\n",
    "\n",
    "    plt.title(title)\n",
    "    plt.xlabel(param_name)\n",
    "    plt.ylabel(\"Score\")\n",
    "    plt.ylim(0.0, 1.1)\n",
    "    lw = 2\n",
    "    plt.plot(param_range, train_scores_mean, label=\"Training score\",\n",
    "                 color=\"darkorange\", lw=lw)\n",
    "    plt.fill_between(param_range, train_scores_mean - train_scores_std,\n",
    "                     train_scores_mean + train_scores_std, alpha=0.2,\n",
    "                     color=\"darkorange\", lw=lw)\n",
    "    plt.plot(param_range, test_scores_mean, label=\"Cross-validation score\",\n",
    "                 color=\"navy\", lw=lw)\n",
    "    plt.fill_between(param_range, test_scores_mean - test_scores_std,\n",
    "                     test_scores_mean + test_scores_std, alpha=0.2,\n",
    "                     color=\"navy\", lw=lw)\n",
    "    plt.legend(loc=\"best\")\n",
    "    return plt"
   ]
  },
  {
   "cell_type": "code",
   "execution_count": 122,
   "metadata": {},
   "outputs": [
    {
     "data": {
      "text/plain": [
       "<module 'matplotlib.pyplot' from 'C:\\\\Users\\\\kotsi\\\\Anaconda37\\\\lib\\\\site-packages\\\\matplotlib\\\\pyplot.py'>"
      ]
     },
     "execution_count": 122,
     "metadata": {},
     "output_type": "execute_result"
    },
    {
     "data": {
      "image/png": "[encoded data removed]",
      "text/plain": [
       "<Figure size 432x288 with 1 Axes>"
      ]
     },
     "metadata": {},
     "output_type": "display_data"
    }
   ],
   "source": [
    "plot_validation_curve(KNeighborsClassifier(n_neighbors=200), 'knn', \n",
    "                      X_train, y_train, \n",
    "                      param_name='n_neighbors', param_range=np.array(range(1,10,1)), \n",
    "                      cv=StratifiedKFold(n_splits=5), scoring=\"accuracy\")"
   ]
  },
  {
   "cell_type": "code",
   "execution_count": null,
   "metadata": {},
   "outputs": [],
   "source": []
  }
 ],
 "metadata": {
  "kernelspec": {
   "display_name": "Python 3",
   "language": "python",
   "name": "python3"
  },
  "language_info": {
   "codemirror_mode": {
    "name": "ipython",
    "version": 3
   },
   "file_extension": ".py",
   "mimetype": "text/x-python",
   "name": "python",
   "nbconvert_exporter": "python",
   "pygments_lexer": "ipython3",
   "version": "3.7.1"
  }
 },
 "nbformat": 4,
 "nbformat_minor": 2
}
