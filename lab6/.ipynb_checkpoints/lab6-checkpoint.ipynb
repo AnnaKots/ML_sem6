{
 "cells": [
  {
   "cell_type": "code",
   "execution_count": 5,
   "metadata": {},
   "outputs": [],
   "source": [
    "import pandas as pd\n",
    "import numpy as np\n",
    "from sklearn.model_selection import train_test_split, GridSearchCV\n",
    "from sklearn.preprocessing import StandardScaler\n",
    "from sklearn import ensemble\n",
    "\n",
    "\n",
    "from sklearn.metrics import accuracy_score, precision_score, recall_score\n",
    "from sklearn.model_selection import learning_curve, validation_curve, StratifiedKFold\n",
    "import time\n",
    "\n",
    "import seaborn as sns\n",
    "import matplotlib.pyplot as plt\n",
    "%matplotlib inline\n",
    "sns.set(style=\"ticks\")"
   ]
  },
  {
   "cell_type": "code",
   "execution_count": 91,
   "metadata": {},
   "outputs": [],
   "source": [
    "X = pd.read_csv('C:/Users/kotsi/Desktop/x_train.csv',delimiter=';')\n",
    "Y = pd.read_csv('C:/Users/kotsi/Desktop/y_train.csv',delimiter=';',header=None)\n",
    "Y.columns=['Exit']\n",
    "Y=Y['Exit']\n",
    "#X=X.drop(['totalBonusScore','totalStarsCount','totalNumOfAttempts'], axis='columns')\n",
    "X = (X - X.mean()) / X.std()"
   ]
  },
  {
   "cell_type": "code",
   "execution_count": 92,
   "metadata": {},
   "outputs": [
    {
     "data": {
      "text/html": [
       "<div>\n",
       "<style scoped>\n",
       "    .dataframe tbody tr th:only-of-type {\n",
       "        vertical-align: middle;\n",
       "    }\n",
       "\n",
       "    .dataframe tbody tr th {\n",
       "        vertical-align: top;\n",
       "    }\n",
       "\n",
       "    .dataframe thead th {\n",
       "        text-align: right;\n",
       "    }\n",
       "</style>\n",
       "<table border=\"1\" class=\"dataframe\">\n",
       "  <thead>\n",
       "    <tr style=\"text-align: right;\">\n",
       "      <th></th>\n",
       "      <th>maxPlayerLevel</th>\n",
       "      <th>numberOfAttemptedLevels</th>\n",
       "      <th>attemptsOnTheHighestLevel</th>\n",
       "      <th>totalNumOfAttempts</th>\n",
       "      <th>averageNumOfTurnsPerCompletedLevel</th>\n",
       "      <th>doReturnOnLowerLevels</th>\n",
       "      <th>numberOfBoostersUsed</th>\n",
       "      <th>fractionOfUsefullBoosters</th>\n",
       "      <th>totalScore</th>\n",
       "      <th>totalBonusScore</th>\n",
       "      <th>totalStarsCount</th>\n",
       "      <th>numberOfDaysActuallyPlayed</th>\n",
       "    </tr>\n",
       "  </thead>\n",
       "  <tbody>\n",
       "    <tr>\n",
       "      <th>24842</th>\n",
       "      <td>3.300215</td>\n",
       "      <td>1.199518</td>\n",
       "      <td>-0.222800</td>\n",
       "      <td>2.204349</td>\n",
       "      <td>1.205712</td>\n",
       "      <td>2.357930</td>\n",
       "      <td>2.126362</td>\n",
       "      <td>-0.021203</td>\n",
       "      <td>1.181929</td>\n",
       "      <td>1.261199</td>\n",
       "      <td>1.296289</td>\n",
       "      <td>4.077221</td>\n",
       "    </tr>\n",
       "    <tr>\n",
       "      <th>21728</th>\n",
       "      <td>-0.417633</td>\n",
       "      <td>-0.108990</td>\n",
       "      <td>-0.370584</td>\n",
       "      <td>-0.396104</td>\n",
       "      <td>0.032296</td>\n",
       "      <td>-0.424084</td>\n",
       "      <td>0.014898</td>\n",
       "      <td>1.156850</td>\n",
       "      <td>-0.113390</td>\n",
       "      <td>-0.052173</td>\n",
       "      <td>-0.030081</td>\n",
       "      <td>-0.623812</td>\n",
       "    </tr>\n",
       "    <tr>\n",
       "      <th>10103</th>\n",
       "      <td>-0.120205</td>\n",
       "      <td>0.352836</td>\n",
       "      <td>-0.222800</td>\n",
       "      <td>-0.121056</td>\n",
       "      <td>0.307117</td>\n",
       "      <td>-0.424084</td>\n",
       "      <td>0.165717</td>\n",
       "      <td>0.742350</td>\n",
       "      <td>0.314675</td>\n",
       "      <td>0.397138</td>\n",
       "      <td>0.446052</td>\n",
       "      <td>-0.262194</td>\n",
       "    </tr>\n",
       "    <tr>\n",
       "      <th>10529</th>\n",
       "      <td>-0.665489</td>\n",
       "      <td>-0.493846</td>\n",
       "      <td>-0.370584</td>\n",
       "      <td>-0.521126</td>\n",
       "      <td>-0.325028</td>\n",
       "      <td>-0.424084</td>\n",
       "      <td>-0.588378</td>\n",
       "      <td>1.156850</td>\n",
       "      <td>-0.537941</td>\n",
       "      <td>-0.420839</td>\n",
       "      <td>-0.438195</td>\n",
       "      <td>-0.623812</td>\n",
       "    </tr>\n",
       "    <tr>\n",
       "      <th>9823</th>\n",
       "      <td>1.267791</td>\n",
       "      <td>-0.262933</td>\n",
       "      <td>-0.370584</td>\n",
       "      <td>0.479049</td>\n",
       "      <td>1.212149</td>\n",
       "      <td>2.357930</td>\n",
       "      <td>0.618173</td>\n",
       "      <td>-0.501150</td>\n",
       "      <td>-0.429021</td>\n",
       "      <td>-0.593651</td>\n",
       "      <td>-0.472204</td>\n",
       "      <td>1.545896</td>\n",
       "    </tr>\n",
       "  </tbody>\n",
       "</table>\n",
       "</div>"
      ],
      "text/plain": [
       "       maxPlayerLevel  numberOfAttemptedLevels  attemptsOnTheHighestLevel  \\\n",
       "24842        3.300215                 1.199518                  -0.222800   \n",
       "21728       -0.417633                -0.108990                  -0.370584   \n",
       "10103       -0.120205                 0.352836                  -0.222800   \n",
       "10529       -0.665489                -0.493846                  -0.370584   \n",
       "9823         1.267791                -0.262933                  -0.370584   \n",
       "\n",
       "       totalNumOfAttempts  averageNumOfTurnsPerCompletedLevel  \\\n",
       "24842            2.204349                            1.205712   \n",
       "21728           -0.396104                            0.032296   \n",
       "10103           -0.121056                            0.307117   \n",
       "10529           -0.521126                           -0.325028   \n",
       "9823             0.479049                            1.212149   \n",
       "\n",
       "       doReturnOnLowerLevels  numberOfBoostersUsed  fractionOfUsefullBoosters  \\\n",
       "24842               2.357930              2.126362                  -0.021203   \n",
       "21728              -0.424084              0.014898                   1.156850   \n",
       "10103              -0.424084              0.165717                   0.742350   \n",
       "10529              -0.424084             -0.588378                   1.156850   \n",
       "9823                2.357930              0.618173                  -0.501150   \n",
       "\n",
       "       totalScore  totalBonusScore  totalStarsCount  \\\n",
       "24842    1.181929         1.261199         1.296289   \n",
       "21728   -0.113390        -0.052173        -0.030081   \n",
       "10103    0.314675         0.397138         0.446052   \n",
       "10529   -0.537941        -0.420839        -0.438195   \n",
       "9823    -0.429021        -0.593651        -0.472204   \n",
       "\n",
       "       numberOfDaysActuallyPlayed  \n",
       "24842                    4.077221  \n",
       "21728                   -0.623812  \n",
       "10103                   -0.262194  \n",
       "10529                   -0.623812  \n",
       "9823                     1.545896  "
      ]
     },
     "execution_count": 92,
     "metadata": {},
     "output_type": "execute_result"
    }
   ],
   "source": [
    "X_train, X_test, y_train, y_test = train_test_split(X, Y, test_size = 0.2, random_state = 11)\n",
    "X_train.head()"
   ]
  },
  {
   "cell_type": "markdown",
   "metadata": {},
   "source": [
    "## Рандомный лес"
   ]
  },
  {
   "cell_type": "code",
   "execution_count": 6,
   "metadata": {},
   "outputs": [
    {
     "data": {
      "text/plain": [
       "RandomForestClassifier(bootstrap=True, class_weight=None, criterion='gini',\n",
       "            max_depth=None, max_features='auto', max_leaf_nodes=None,\n",
       "            min_impurity_decrease=0.0, min_impurity_split=None,\n",
       "            min_samples_leaf=1, min_samples_split=2,\n",
       "            min_weight_fraction_leaf=0.0, n_estimators=100, n_jobs=None,\n",
       "            oob_score=False, random_state=11, verbose=0, warm_start=False)"
      ]
     },
     "execution_count": 6,
     "metadata": {},
     "output_type": "execute_result"
    }
   ],
   "source": [
    "rf = ensemble.RandomForestClassifier()\n",
    "rf.fit(X_train, y_train)"
   ]
  },
  {
   "cell_type": "code",
   "execution_count": 7,
   "metadata": {},
   "outputs": [],
   "source": [
    "y_train_predict = rf.predict(X_train)\n",
    "y_test_predict = rf.predict(X_test)"
   ]
  },
  {
   "cell_type": "code",
   "execution_count": 8,
   "metadata": {},
   "outputs": [
    {
     "name": "stdout",
     "output_type": "stream",
     "text": [
      "0.8103993673388691 0.6740088105726872 0.6406140963014655\n"
     ]
    }
   ],
   "source": [
    "print(accuracy_score(y_test, y_test_predict), precision_score(y_test, y_test_predict), recall_score(y_test, y_test_predict))"
   ]
  },
  {
   "cell_type": "code",
   "execution_count": 25,
   "metadata": {},
   "outputs": [
    {
     "data": {
      "text/plain": [
       "GridSearchCV(cv=5, error_score='raise-deprecating',\n",
       "       estimator=RandomForestClassifier(bootstrap=True, class_weight=None, criterion='gini',\n",
       "            max_depth=None, max_features='auto', max_leaf_nodes=None,\n",
       "            min_impurity_decrease=0.0, min_impurity_split=None,\n",
       "            min_samples_leaf=1, min_samples_split=2,\n",
       "            min_weight_fraction_leaf=0.0, n_estimators='warn', n_jobs=None,\n",
       "            oob_score=False, random_state=None, verbose=0,\n",
       "            warm_start=False),\n",
       "       fit_params=None, iid='warn', n_jobs=None,\n",
       "       param_grid={'n_estimators': [365, 370, 375], 'max_depth': [9], 'max_features': ['log2'], 'criterion': ['gini']},\n",
       "       pre_dispatch='2*n_jobs', refit=True, return_train_score='warn',\n",
       "       scoring=None, verbose=0)"
      ]
     },
     "execution_count": 25,
     "metadata": {},
     "output_type": "execute_result"
    }
   ],
   "source": [
    "parameters = {\n",
    "    'n_estimators'      : [365], # число деревьев в лесу\n",
    "    'max_depth'         : [9],\n",
    "    'max_features': ['log2'],\n",
    "    'criterion' :['gini']\n",
    "}\n",
    "grid = GridSearchCV(ensemble.RandomForestClassifier(), parameters, cv=5) \n",
    "grid.fit(X_train, y_train)"
   ]
  },
  {
   "cell_type": "code",
   "execution_count": 26,
   "metadata": {},
   "outputs": [
    {
     "data": {
      "text/plain": [
       "365"
      ]
     },
     "execution_count": 26,
     "metadata": {},
     "output_type": "execute_result"
    }
   ],
   "source": [
    "grid.best_estimator_.n_estimators"
   ]
  },
  {
   "cell_type": "code",
   "execution_count": 20,
   "metadata": {},
   "outputs": [
    {
     "data": {
      "text/plain": [
       "'gini'"
      ]
     },
     "execution_count": 20,
     "metadata": {},
     "output_type": "execute_result"
    }
   ],
   "source": [
    "grid.best_estimator_.criterion"
   ]
  },
  {
   "cell_type": "code",
   "execution_count": 28,
   "metadata": {},
   "outputs": [
    {
     "data": {
      "text/plain": [
       "RandomForestClassifier(bootstrap=True, class_weight=None, criterion='gini',\n",
       "            max_depth=9, max_features='log2', max_leaf_nodes=None,\n",
       "            min_impurity_decrease=0.0, min_impurity_split=None,\n",
       "            min_samples_leaf=1, min_samples_split=2,\n",
       "            min_weight_fraction_leaf=0.0, n_estimators=365, n_jobs=None,\n",
       "            oob_score=False, random_state=11, verbose=0, warm_start=False)"
      ]
     },
     "execution_count": 28,
     "metadata": {},
     "output_type": "execute_result"
    }
   ],
   "source": [
    "rf = ensemble.RandomForestClassifier(n_estimators=365, max_depth=9, max_features='log2',criterion='gini', random_state=11)\n",
    "rf.fit(X_train, y_train)"
   ]
  },
  {
   "cell_type": "code",
   "execution_count": 29,
   "metadata": {},
   "outputs": [],
   "source": [
    "y_train_predict = rf.predict(X_train)\n",
    "y_test_predict = rf.predict(X_test)"
   ]
  },
  {
   "cell_type": "code",
   "execution_count": 30,
   "metadata": {},
   "outputs": [
    {
     "name": "stdout",
     "output_type": "stream",
     "text": [
      "0.8238434163701067 0.7094281298299846 0.6406140963014655\n"
     ]
    }
   ],
   "source": [
    "print(accuracy_score(y_test, y_test_predict), precision_score(y_test, y_test_predict), recall_score(y_test, y_test_predict))"
   ]
  },
  {
   "cell_type": "markdown",
   "metadata": {},
   "source": [
    "## Бустинг"
   ]
  },
  {
   "cell_type": "code",
   "execution_count": 31,
   "metadata": {},
   "outputs": [],
   "source": [
    "boost=ensemble.GradientBoostingClassifier()\n",
    "boost.fit(X_train, y_train)\n",
    "y_train_predict = boost.predict(X_train)\n",
    "y_test_predict = boost.predict(X_test)"
   ]
  },
  {
   "cell_type": "code",
   "execution_count": 32,
   "metadata": {},
   "outputs": [
    {
     "name": "stdout",
     "output_type": "stream",
     "text": [
      "0.8216686437327007 0.7053364269141531 0.636427076064201\n"
     ]
    }
   ],
   "source": [
    "print(accuracy_score(y_test, y_test_predict), precision_score(y_test, y_test_predict), recall_score(y_test, y_test_predict))"
   ]
  },
  {
   "cell_type": "code",
   "execution_count": 87,
   "metadata": {},
   "outputs": [
    {
     "name": "stderr",
     "output_type": "stream",
     "text": [
      "C:\\Users\\kotsi\\Anaconda37\\lib\\site-packages\\sklearn\\model_selection\\_split.py:2053: FutureWarning: You should specify a value for 'cv' instead of relying on the default value. The default value will change from 3 to 5 in version 0.22.\n",
      "  warnings.warn(CV_WARNING, FutureWarning)\n"
     ]
    },
    {
     "data": {
      "text/plain": [
       "GridSearchCV(cv='warn', error_score='raise-deprecating',\n",
       "       estimator=GradientBoostingClassifier(criterion='friedman_mse', init=None,\n",
       "              learning_rate=0.1, loss='deviance', max_depth=3,\n",
       "              max_features=None, max_leaf_nodes=None,\n",
       "              min_impurity_decrease=0.0, min_impurity_split=None,\n",
       "              min_samples_leaf=1, min_sampl...      subsample=1.0, tol=0.0001, validation_fraction=0.1,\n",
       "              verbose=0, warm_start=False),\n",
       "       fit_params=None, iid='warn', n_jobs=None,\n",
       "       param_grid={'n_estimators': [14], 'max_depth': [12], 'min_samples_split': [850], 'min_samples_leaf': [58], 'max_features': [9], 'subsample': [0.72, 0.725, 0.73]},\n",
       "       pre_dispatch='2*n_jobs', refit=True, return_train_score='warn',\n",
       "       scoring=None, verbose=0)"
      ]
     },
     "execution_count": 87,
     "metadata": {},
     "output_type": "execute_result"
    }
   ],
   "source": [
    "parameters = {\n",
    "    'n_estimators':[14],\n",
    "    'max_depth':[12],\n",
    "    'min_samples_split':[850],\n",
    " 'min_samples_leaf':[58],\n",
    "    'max_features':[9],\n",
    "    'subsample':[0.72,0.725,0.73]\n",
    "}    \n",
    "grid = GridSearchCV(ensemble.GradientBoostingClassifier(), parameters) \n",
    "grid.fit(X_train, y_train)"
   ]
  },
  {
   "cell_type": "code",
   "execution_count": 88,
   "metadata": {},
   "outputs": [
    {
     "data": {
      "text/plain": [
       "0.73"
      ]
     },
     "execution_count": 88,
     "metadata": {},
     "output_type": "execute_result"
    }
   ],
   "source": [
    "grid.best_estimator_.subsample"
   ]
  },
  {
   "cell_type": "code",
   "execution_count": 93,
   "metadata": {},
   "outputs": [],
   "source": [
    "boost=ensemble.GradientBoostingClassifier(n_estimators=14, max_depth=12,min_samples_split=850,\n",
    "                                          min_samples_leaf=58, max_features=9,subsample=0.73)\n",
    "boost.fit(X_train, y_train)\n",
    "y_train_predict = boost.predict(X_train)\n",
    "y_test_predict = boost.predict(X_test)"
   ]
  },
  {
   "cell_type": "code",
   "execution_count": 94,
   "metadata": {},
   "outputs": [
    {
     "name": "stdout",
     "output_type": "stream",
     "text": [
      "0.82502965599051 0.7395104895104895 0.5903698534542917\n"
     ]
    }
   ],
   "source": [
    "print(accuracy_score(y_test, y_test_predict), precision_score(y_test, y_test_predict), recall_score(y_test, y_test_predict))"
   ]
  },
  {
   "cell_type": "markdown",
   "metadata": {},
   "source": [
    "## AdaBoost"
   ]
  },
  {
   "cell_type": "code",
   "execution_count": null,
   "metadata": {},
   "outputs": [],
   "source": [
    "ada=ensemble.AdaBoostClassifier()\n",
    "ada.fit(X_train, y_train)\n",
    "y_train_predict = ada.predict(X_train)\n",
    "y_test_predict = ada.predict(X_test)"
   ]
  }
 ],
 "metadata": {
  "kernelspec": {
   "display_name": "Python 3",
   "language": "python",
   "name": "python3"
  },
  "language_info": {
   "codemirror_mode": {
    "name": "ipython",
    "version": 3
   },
   "file_extension": ".py",
   "mimetype": "text/x-python",
   "name": "python",
   "nbconvert_exporter": "python",
   "pygments_lexer": "ipython3",
   "version": "3.7.1"
  }
 },
 "nbformat": 4,
 "nbformat_minor": 2
}
